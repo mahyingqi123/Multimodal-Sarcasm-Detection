{
 "cells": [
  {
   "cell_type": "code",
   "execution_count": 1,
   "metadata": {},
   "outputs": [
    {
     "name": "stderr",
     "output_type": "stream",
     "text": [
      "c:\\Users\\yingq\\AppData\\Local\\Programs\\Python\\Python311\\Lib\\site-packages\\tqdm\\auto.py:21: TqdmWarning: IProgress not found. Please update jupyter and ipywidgets. See https://ipywidgets.readthedocs.io/en/stable/user_install.html\n",
      "  from .autonotebook import tqdm as notebook_tqdm\n"
     ]
    }
   ],
   "source": [
    "# This file is to generate embeddings from images\n",
    "\n",
    "%matplotlib inline\n",
    "import numpy as np\n",
    "import open_clip\n",
    "from tqdm import tqdm"
   ]
  },
  {
   "cell_type": "code",
   "execution_count": 13,
   "metadata": {},
   "outputs": [
    {
     "name": "stderr",
     "output_type": "stream",
     "text": [
      "100%|██████████| 690/690 [11:57<00:00,  1.04s/it]\n"
     ]
    }
   ],
   "source": [
    "import torch\n",
    "import os\n",
    "import numpy as np\n",
    "from PIL import Image\n",
    "from tqdm import tqdm\n",
    "from torch.utils.data import DataLoader, TensorDataset\n",
    "from torch.nn.utils.rnn import pad_sequence  # For padding sequences\n",
    "import open_clip\n",
    "\n",
    "# Load the model\n",
    "model_Vit, _, preprocess = open_clip.create_model_and_transforms('ViT-B-32-quickgelu', pretrained='openai')\n",
    "device = \"cuda\" if torch.cuda.is_available() else \"cpu\"\n",
    "model_Vit.to(device)\n",
    "model_Vit.eval()\n",
    "\n",
    "path_to_folders = 'video/Frames/'\n",
    "folders = os.listdir(path_to_folders)\n",
    "\n",
    "# Function to load frames from a folder and keep them in order\n",
    "def load_frames_from_folder(folder):\n",
    "    frames = []\n",
    "    for filename in sorted(os.listdir(folder)):  # Sorting ensures temporal order\n",
    "        img_path = os.path.join(folder, filename)\n",
    "        img = Image.open(img_path)\n",
    "        frames.append(img)\n",
    "    return frames\n",
    "\n",
    "# Hyperparameters\n",
    "batch_size = 16  # GPU capacity dependent\n",
    "window_size = 16  # Number of frames per temporal window\n",
    "\n",
    "# Temporal extraction and embedding calculation\n",
    "result = {}\n",
    "\n",
    "for frames_folder in tqdm(folders):\n",
    "    frames = load_frames_from_folder(os.path.join(path_to_folders, frames_folder))\n",
    "    \n",
    "    # Preprocess frames and create batches of windows\n",
    "    preprocessed_frames = [preprocess(frame).to(device) for frame in frames]\n",
    "    \n",
    "    # Split frames into windows of size `window_size`\n",
    "    windows = [preprocessed_frames[i:i + window_size] for i in range(0, len(preprocessed_frames), window_size)]\n",
    "    \n",
    "    embeddings = []\n",
    "    \n",
    "    with torch.no_grad():\n",
    "        for window in windows:\n",
    "            # Stack the frames in the window and pad to handle variable window size\n",
    "            window_tensor = torch.stack(window)  # Shape: (window_size, 3, H, W)\n",
    "            window_dataset = TensorDataset(window_tensor)\n",
    "            window_loader = DataLoader(window_dataset, batch_size=batch_size)\n",
    "\n",
    "            window_embeddings = []\n",
    "            for batch in window_loader:\n",
    "                batch_frames = batch[0].to(device)  # Move batch to GPU\n",
    "                image_features = model_Vit.encode_image(batch_frames)\n",
    "                window_embeddings.append(image_features.cpu())  # Save embeddings\n",
    "\n",
    "            # Aggregate embeddings in the window (e.g., mean pooling)\n",
    "            window_embedding = torch.mean(torch.vstack(window_embeddings), dim=0)\n",
    "            embeddings.append(window_embedding)\n",
    "\n",
    "    # Stack all window embeddings for this folder\n",
    "    embeddings_tensor = torch.stack(embeddings)  # Shape: (num_windows, embedding_dim)\n",
    "\n",
    "    \n",
    "    # Save the result for the current folder\n",
    "    result[frames_folder] = embeddings_tensor.cpu().numpy().tolist()\n"
   ]
  },
  {
   "cell_type": "code",
   "execution_count": 14,
   "metadata": {},
   "outputs": [],
   "source": [
    "import json\n",
    "\n",
    "with open('video_embeddings_complete.json', 'w') as f:\n",
    "    json.dump(result, f, indent=4)"
   ]
  },
  {
   "cell_type": "code",
   "execution_count": null,
   "metadata": {},
   "outputs": [],
   "source": [
    "video_list_path = 'video/Framse/'\n",
    "for key, value in result.items():\n",
    "    video_list = os.listdir(video_list_path+key)"
   ]
  }
 ],
 "metadata": {
  "kernelspec": {
   "display_name": "Python 3",
   "language": "python",
   "name": "python3"
  },
  "language_info": {
   "codemirror_mode": {
    "name": "ipython",
    "version": 3
   },
   "file_extension": ".py",
   "mimetype": "text/x-python",
   "name": "python",
   "nbconvert_exporter": "python",
   "pygments_lexer": "ipython3",
   "version": "3.11.5"
  }
 },
 "nbformat": 4,
 "nbformat_minor": 2
}
