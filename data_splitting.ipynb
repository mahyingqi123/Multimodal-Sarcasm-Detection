{
 "cells": [
  {
   "cell_type": "code",
   "execution_count": null,
   "metadata": {},
   "outputs": [
    {
     "ename": "NameError",
     "evalue": "name 'data_input' is not defined",
     "output_type": "error",
     "traceback": [
      "\u001b[1;31m---------------------------------------------------------------------------\u001b[0m",
      "\u001b[1;31mNameError\u001b[0m                                 Traceback (most recent call last)",
      "Cell \u001b[1;32mIn[1], line 4\u001b[0m\n\u001b[0;32m      2\u001b[0m splits \u001b[38;5;241m=\u001b[39m \u001b[38;5;241m5\u001b[39m\n\u001b[0;32m      3\u001b[0m skf \u001b[38;5;241m=\u001b[39m StratifiedKFold(n_splits\u001b[38;5;241m=\u001b[39msplits, shuffle\u001b[38;5;241m=\u001b[39m\u001b[38;5;28;01mTrue\u001b[39;00m)\n\u001b[1;32m----> 4\u001b[0m split_indices \u001b[38;5;241m=\u001b[39m [(train_index, test_index) \u001b[38;5;28;01mfor\u001b[39;00m train_index, test_index \u001b[38;5;129;01min\u001b[39;00m skf\u001b[38;5;241m.\u001b[39msplit(\u001b[43mdata_input\u001b[49m, data_output)]\n\u001b[0;32m      6\u001b[0m \u001b[38;5;66;03m# if not os.path.exists(indices_file):\u001b[39;00m\n\u001b[0;32m      7\u001b[0m \u001b[38;5;66;03m#     pickle.dump(split_indices, open(indices_file, 'wb'), protocol=2)\u001b[39;00m\n\u001b[0;32m      8\u001b[0m \u001b[38;5;66;03m# split_indices = pickle_loader(indices_file)\u001b[39;00m\n",
      "\u001b[1;31mNameError\u001b[0m: name 'data_input' is not defined"
     ]
    }
   ],
   "source": [
    "# this is the code for the data split into 5 folds\n",
    "\n",
    "from sklearn.model_selection import StratifiedKFold\n",
    "splits = 5\n",
    "skf = StratifiedKFold(n_splits=splits, shuffle=True, random_state=42)\n",
    "split_indices = [(train_index, test_index) for train_index, test_index in skf.split(data_input, data_output)]\n",
    "\n",
    "# if not os.path.exists(indices_file):\n",
    "#     pickle.dump(split_indices, open(indices_file, 'wb'), protocol=2)\n",
    "split_indices = pickle_loader(indices_file)"
   ]
  },
  {
   "cell_type": "code",
   "execution_count": null,
   "metadata": {},
   "outputs": [],
   "source": [
    "import pickle\n",
    "indices_file = \"split_indices.p\"\n",
    "def pickle_loader(filename):\n",
    "    return pickle.load(open(filename, 'rb'), encoding=\"latin1\")\n",
    "split_indices = pickle_loader(indices_file)"
   ]
  }
 ],
 "metadata": {
  "kernelspec": {
   "display_name": "Python 3",
   "language": "python",
   "name": "python3"
  },
  "language_info": {
   "codemirror_mode": {
    "name": "ipython",
    "version": 3
   },
   "file_extension": ".py",
   "mimetype": "text/x-python",
   "name": "python",
   "nbconvert_exporter": "python",
   "pygments_lexer": "ipython3",
   "version": "3.11.5"
  }
 },
 "nbformat": 4,
 "nbformat_minor": 2
}
