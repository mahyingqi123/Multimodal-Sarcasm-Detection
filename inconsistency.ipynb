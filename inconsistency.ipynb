{
 "cells": [
  {
   "cell_type": "code",
   "execution_count": null,
   "metadata": {},
   "outputs": [
    {
     "data": {
      "text/plain": [
       "[{'label': 'neutral', 'score': 0.8817856907844543}]"
      ]
     },
     "execution_count": 9,
     "metadata": {},
     "output_type": "execute_result"
    }
   ],
   "source": [
    "# This file is to extract emotion from data \n",
    "\n",
    "from transformers import pipeline\n",
    "classifier = pipeline(\"sentiment-analysis\", model=\"michellejieli/emotion_text_classifier\")\n",
    "\n"
   ]
  },
  {
   "cell_type": "code",
   "execution_count": 26,
   "metadata": {},
   "outputs": [],
   "source": [
    "emotion_to_index = {\n",
    "    'angry':0,\n",
    "    'anger':0,\n",
    "    'disgust':1,\n",
    "    'fear':2,\n",
    "    'fearful':2,\n",
    "    'happy':3,\n",
    "    'joy':3,\n",
    "    'sad':4,\n",
    "    'sadness':4,\n",
    "    'surprise':5,\n",
    "    'neutral':6,\n",
    "    'calm':6,\n",
    "    'surprised':5\n",
    "}"
   ]
  },
  {
   "cell_type": "code",
   "execution_count": 24,
   "metadata": {},
   "outputs": [],
   "source": [
    "import json\n",
    "\n",
    "data = json.load(open('sarcasm_data.json'))\n"
   ]
  },
  {
   "cell_type": "code",
   "execution_count": 28,
   "metadata": {},
   "outputs": [],
   "source": [
    "result = {}\n",
    "for key in data:\n",
    "    result[key] = {}\n",
    "    result[key]['text'] = [0,0,0,0,0,0,0]\n",
    "    emotion = classifier(data[key]['utterance'])[0]['label']\n",
    "    result[key]['text'][emotion_to_index[emotion]] += 1"
   ]
  },
  {
   "cell_type": "code",
   "execution_count": 2,
   "metadata": {},
   "outputs": [
    {
     "data": {
      "application/vnd.jupyter.widget-view+json": {
       "model_id": "d65fc6e2141a4cc8809eb9c3d306524a",
       "version_major": 2,
       "version_minor": 0
      },
      "text/plain": [
       "preprocessor_config.json:   0%|          | 0.00/578 [00:00<?, ?B/s]"
      ]
     },
     "metadata": {},
     "output_type": "display_data"
    },
    {
     "name": "stderr",
     "output_type": "stream",
     "text": [
      "c:\\Users\\yingq\\AppData\\Local\\Programs\\Python\\Python311\\Lib\\site-packages\\huggingface_hub\\file_download.py:149: UserWarning: `huggingface_hub` cache-system uses symlinks by default to efficiently store duplicated files but your machine does not support them in C:\\Users\\yingq\\.cache\\huggingface\\hub\\models--dima806--facial_emotions_image_detection. Caching files will still work but in a degraded version that might require more space on your disk. This warning can be disabled by setting the `HF_HUB_DISABLE_SYMLINKS_WARNING` environment variable. For more details, see https://huggingface.co/docs/huggingface_hub/how-to-cache#limitations.\n",
      "To support symlinks on Windows, you either need to activate Developer Mode or to run Python as an administrator. In order to see activate developer mode, see this article: https://docs.microsoft.com/en-us/windows/apps/get-started/enable-your-device-for-development\n",
      "  warnings.warn(message)\n"
     ]
    },
    {
     "data": {
      "application/vnd.jupyter.widget-view+json": {
       "model_id": "0d950730db6d42e9b9fffdcf66c5d89d",
       "version_major": 2,
       "version_minor": 0
      },
      "text/plain": [
       "config.json:   0%|          | 0.00/907 [00:00<?, ?B/s]"
      ]
     },
     "metadata": {},
     "output_type": "display_data"
    },
    {
     "data": {
      "application/vnd.jupyter.widget-view+json": {
       "model_id": "50036cd5db8a4bcc8970213de780339a",
       "version_major": 2,
       "version_minor": 0
      },
      "text/plain": [
       "model.safetensors:   0%|          | 0.00/343M [00:00<?, ?B/s]"
      ]
     },
     "metadata": {},
     "output_type": "display_data"
    }
   ],
   "source": [
    "# Load model directly\n",
    "from transformers import AutoImageProcessor, AutoModelForImageClassification\n",
    "\n",
    "image_processor = AutoImageProcessor.from_pretrained(\"dima806/facial_emotions_image_detection\")\n",
    "image_model = AutoModelForImageClassification.from_pretrained(\"dima806/facial_emotions_image_detection\")"
   ]
  },
  {
   "cell_type": "code",
   "execution_count": 31,
   "metadata": {},
   "outputs": [
    {
     "name": "stderr",
     "output_type": "stream",
     "text": [
      "100%|██████████| 690/690 [24:41<00:00,  2.15s/it]\n"
     ]
    }
   ],
   "source": [
    "from PIL import Image\n",
    "import torch\n",
    "import os\n",
    "from tqdm import tqdm\n",
    "\n",
    "# Ensure CUDA is available and set the device\n",
    "device = torch.device(\"cuda\" if torch.cuda.is_available() else \"cpu\")\n",
    "\n",
    "# Move the model to the GPU\n",
    "image_model = image_model.to(device)\n",
    "\n",
    "# Define batch size\n",
    "BATCH_SIZE = 16  # Adjust based on your GPU memory\n",
    "\n",
    "for key in tqdm(data):\n",
    "    images = os.listdir(f\"video/Frames/{key}\")\n",
    "    emotion = [0, 0, 0, 0, 0, 0, 0]\n",
    "    \n",
    "    # Process images in batches\n",
    "    for i in range(0, len(images), BATCH_SIZE):\n",
    "        batch_images = images[i:i + BATCH_SIZE]\n",
    "        batch_inputs = []\n",
    "        \n",
    "        # Preprocess all images in the batch\n",
    "        for image in batch_images:\n",
    "            img = image_processor(\n",
    "                Image.open(f\"video/Frames/{key}/{image}\").convert(\"RGB\"),\n",
    "                return_tensors=\"pt\"\n",
    "            )['pixel_values']  # Extract pixel values\n",
    "            batch_inputs.append(img)\n",
    "        \n",
    "        # Stack images into a single tensor batch\n",
    "        batch_inputs = torch.cat(batch_inputs, dim=0).to(device)\n",
    "        \n",
    "        # Run inference on GPU\n",
    "        with torch.no_grad():\n",
    "            predictions = image_model(pixel_values=batch_inputs)\n",
    "        \n",
    "        # Process predictions\n",
    "        predicted_class_indices = predictions.logits.argmax(-1).tolist()\n",
    "        labels = image_model.config.id2label  # Get label mapping from model config\n",
    "        \n",
    "        for idx in predicted_class_indices:\n",
    "            predicted_label = labels[idx]\n",
    "            emotion[emotion_to_index[predicted_label]] += 1\n",
    "    \n",
    "    # Determine the dominant emotion\n",
    "    max_index = emotion.index(max(emotion))\n",
    "    result[key]['image'] = [0, 0, 0, 0, 0, 0, 0]\n",
    "    result[key]['image'][max_index] = 1\n"
   ]
  },
  {
   "cell_type": "code",
   "execution_count": 5,
   "metadata": {},
   "outputs": [
    {
     "data": {
      "application/vnd.jupyter.widget-view+json": {
       "model_id": "39a271845237443682ebc0f4d69ef579",
       "version_major": 2,
       "version_minor": 0
      },
      "text/plain": [
       "model.safetensors:   0%|          | 0.00/1.27G [00:00<?, ?B/s]"
      ]
     },
     "metadata": {},
     "output_type": "display_data"
    },
    {
     "name": "stderr",
     "output_type": "stream",
     "text": [
      "Some weights of the model checkpoint at ehcalabres/wav2vec2-lg-xlsr-en-speech-emotion-recognition were not used when initializing Wav2Vec2ForSequenceClassification: ['classifier.dense.bias', 'classifier.dense.weight', 'classifier.output.bias', 'classifier.output.weight', 'wav2vec2.encoder.pos_conv_embed.conv.weight_g', 'wav2vec2.encoder.pos_conv_embed.conv.weight_v']\n",
      "- This IS expected if you are initializing Wav2Vec2ForSequenceClassification from the checkpoint of a model trained on another task or with another architecture (e.g. initializing a BertForSequenceClassification model from a BertForPreTraining model).\n",
      "- This IS NOT expected if you are initializing Wav2Vec2ForSequenceClassification from the checkpoint of a model that you expect to be exactly identical (initializing a BertForSequenceClassification model from a BertForSequenceClassification model).\n",
      "Some weights of Wav2Vec2ForSequenceClassification were not initialized from the model checkpoint at ehcalabres/wav2vec2-lg-xlsr-en-speech-emotion-recognition and are newly initialized: ['classifier.bias', 'classifier.weight', 'projector.bias', 'projector.weight', 'wav2vec2.encoder.pos_conv_embed.conv.parametrizations.weight.original0', 'wav2vec2.encoder.pos_conv_embed.conv.parametrizations.weight.original1']\n",
      "You should probably TRAIN this model on a down-stream task to be able to use it for predictions and inference.\n"
     ]
    }
   ],
   "source": [
    "# Use a pipeline as a high-level helper\n",
    "from transformers import pipeline\n",
    "\n",
    "pipe = pipeline(\"audio-classification\", model=\"ehcalabres/wav2vec2-lg-xlsr-en-speech-emotion-recognition\")"
   ]
  },
  {
   "cell_type": "code",
   "execution_count": null,
   "metadata": {},
   "outputs": [],
   "source": [
    "for key in data:\n",
    "    audio = f\"audio/final/{key}.wav\"\n",
    "    emotion = pipe(audio)[0]['label']\n",
    "    result[key]['audio'] = [0,0,0,0,0,0,0]\n",
    "    result[key]['audio'][emotion_to_index[emotion]] += 1"
   ]
  },
  {
   "cell_type": "code",
   "execution_count": 33,
   "metadata": {},
   "outputs": [],
   "source": [
    "json.dump(result, open('emotion.json', 'w'), indent=4)"
   ]
  }
 ],
 "metadata": {
  "kernelspec": {
   "display_name": "Python 3",
   "language": "python",
   "name": "python3"
  },
  "language_info": {
   "codemirror_mode": {
    "name": "ipython",
    "version": 3
   },
   "file_extension": ".py",
   "mimetype": "text/x-python",
   "name": "python",
   "nbconvert_exporter": "python",
   "pygments_lexer": "ipython3",
   "version": "3.11.5"
  }
 },
 "nbformat": 4,
 "nbformat_minor": 2
}
